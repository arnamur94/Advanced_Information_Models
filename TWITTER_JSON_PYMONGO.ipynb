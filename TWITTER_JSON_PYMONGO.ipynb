{
 "cells": [
  {
   "cell_type": "markdown",
   "metadata": {},
   "source": [
    "# MongDB part (coding skills)"
   ]
  },
  {
   "cell_type": "markdown",
   "metadata": {},
   "source": [
    "<b>Using Pymongo Client API to connect to a MongoDb Instance in Python\n",
    "</b>"
   ]
  },
  {
   "cell_type": "code",
   "execution_count": 1,
   "metadata": {},
   "outputs": [
    {
     "name": "stdout",
     "output_type": "stream",
     "text": [
      "MongoClient connected\n"
     ]
    }
   ],
   "source": [
    "#Connection to a running MongoDb Instance\n",
    "from pymongo import MongoClient\n",
    "client = MongoClient()\n",
    "print(\"MongoClient connected\")"
   ]
  },
  {
   "cell_type": "code",
   "execution_count": 2,
   "metadata": {},
   "outputs": [
    {
     "name": "stdout",
     "output_type": "stream",
     "text": [
      "Connect to twitter_db\n"
     ]
    }
   ],
   "source": [
    "#Loading of twitter database\n",
    "db = client.twitter_db\n",
    "#Loading od tweets collection\n",
    "tweets = db.tweets\n",
    "print(\"Connect to twitter_db\")"
   ]
  },
  {
   "cell_type": "code",
   "execution_count": 3,
   "metadata": {},
   "outputs": [
    {
     "name": "stdout",
     "output_type": "stream",
     "text": [
      "3207 tweets in twitter_db\n"
     ]
    }
   ],
   "source": [
    "#Counting of tweets documents in the collection\n",
    "print(tweets.count(),\"tweets in twitter_db\")\n"
   ]
  },
  {
   "cell_type": "code",
   "execution_count": 4,
   "metadata": {},
   "outputs": [
    {
     "name": "stdout",
     "output_type": "stream",
     "text": [
      "47 tweets matching with 'ISIS' regEx\n"
     ]
    }
   ],
   "source": [
    "import pprint\n",
    "#Searching of a randomly chosen tweet\n",
    "tweet_iterator = tweets.find({'text':{'$regex': 'ISIS'}})\n",
    "#Printing a tweet.JSON document\n",
    "print(tweet_iterator.count(),\"tweets matching with 'ISIS' regEx\")"
   ]
  },
  {
   "cell_type": "code",
   "execution_count": 5,
   "metadata": {},
   "outputs": [
    {
     "name": "stdout",
     "output_type": "stream",
     "text": [
      "{'_id': ObjectId('5a02dd7ce971cef57b526432'),\n",
      " 'contributors': None,\n",
      " 'coordinates': None,\n",
      " 'created_at': 'Fri Aug 12 13:01:06 +0000 2016',\n",
      " 'entities': {'hashtags': [], 'symbols': [], 'urls': [], 'user_mentions': []},\n",
      " 'favorite_count': 39549,\n",
      " 'favorited': False,\n",
      " 'geo': None,\n",
      " 'id': 764084294704697344,\n",
      " 'id_str': '764084294704697344',\n",
      " 'in_reply_to_screen_name': None,\n",
      " 'in_reply_to_status_id': None,\n",
      " 'in_reply_to_status_id_str': None,\n",
      " 'in_reply_to_user_id': None,\n",
      " 'in_reply_to_user_id_str': None,\n",
      " 'is_quote_status': False,\n",
      " 'lang': 'en',\n",
      " 'place': None,\n",
      " 'retweet_count': 15162,\n",
      " 'retweeted': False,\n",
      " 'source': '<a href=\"http://twitter.com/download/android\" '\n",
      "           'rel=\"nofollow\">Twitter for Android</a>',\n",
      " 'text': \"ISIS gained tremendous strength during Hillary Clinton's term as \"\n",
      "         'Secretary of State. When will the dishonest media report the facts!',\n",
      " 'truncated': False,\n",
      " 'user': {'contributors_enabled': False,\n",
      "          'created_at': 'Wed Mar 18 13:46:38 +0000 2009',\n",
      "          'default_profile': False,\n",
      "          'default_profile_image': False,\n",
      "          'description': '#TrumpPence16',\n",
      "          'entities': {'description': {'urls': []},\n",
      "                       'url': {'urls': [{'display_url': 'DonaldJTrump.com',\n",
      "                                         'expanded_url': 'http://www.DonaldJTrump.com',\n",
      "                                         'indices': [0, 23],\n",
      "                                         'url': 'https://t.co/mZB2hymxC9'}]}},\n",
      "          'favourites_count': 35,\n",
      "          'follow_request_sent': False,\n",
      "          'followers_count': 11088848,\n",
      "          'following': True,\n",
      "          'friends_count': 42,\n",
      "          'geo_enabled': True,\n",
      "          'has_extended_profile': False,\n",
      "          'id': 25073877,\n",
      "          'id_str': '25073877',\n",
      "          'is_translation_enabled': True,\n",
      "          'is_translator': False,\n",
      "          'lang': 'en',\n",
      "          'listed_count': 37760,\n",
      "          'location': 'New York, NY',\n",
      "          'name': 'Donald J. Trump',\n",
      "          'notifications': False,\n",
      "          'profile_background_color': '6D5C18',\n",
      "          'profile_background_image_url': 'http://pbs.twimg.com/profile_background_images/530021613/trump_scotland__43_of_70_cc.jpg',\n",
      "          'profile_background_image_url_https': 'https://pbs.twimg.com/profile_background_images/530021613/trump_scotland__43_of_70_cc.jpg',\n",
      "          'profile_background_tile': True,\n",
      "          'profile_banner_url': 'https://pbs.twimg.com/profile_banners/25073877/1468988952',\n",
      "          'profile_image_url': 'http://pbs.twimg.com/profile_images/1980294624/DJT_Headshot_V2_normal.jpg',\n",
      "          'profile_image_url_https': 'https://pbs.twimg.com/profile_images/1980294624/DJT_Headshot_V2_normal.jpg',\n",
      "          'profile_link_color': '0D5B73',\n",
      "          'profile_sidebar_border_color': 'BDDCAD',\n",
      "          'profile_sidebar_fill_color': 'C5CEC0',\n",
      "          'profile_text_color': '333333',\n",
      "          'profile_use_background_image': True,\n",
      "          'protected': False,\n",
      "          'screen_name': 'realDonaldTrump',\n",
      "          'statuses_count': 32980,\n",
      "          'time_zone': 'Eastern Time (US & Canada)',\n",
      "          'url': 'https://t.co/mZB2hymxC9',\n",
      "          'utc_offset': -14400,\n",
      "          'verified': True}}\n"
     ]
    }
   ],
   "source": [
    "for tweet in tweet_iterator[:1]:\n",
    "    pprint.pprint(tweet)"
   ]
  },
  {
   "cell_type": "code",
   "execution_count": 6,
   "metadata": {},
   "outputs": [
    {
     "name": "stdout",
     "output_type": "stream",
     "text": [
      "'Payload tweet text information'\n",
      " ISIS gained tremendous strength during Hillary Clinton's term as Secretary of State. When will the dishonest media report the facts!\n"
     ]
    }
   ],
   "source": [
    "#Printing the creation information of the tweet.JSON document\n",
    "tweet = tweets.find_one({'text':{'$regex': 'ISIS'}})\n",
    "print(\"'Payload tweet text information'\\n\",tweet['text'])"
   ]
  },
  {
   "cell_type": "code",
   "execution_count": 7,
   "metadata": {},
   "outputs": [
    {
     "name": "stdout",
     "output_type": "stream",
     "text": [
      "''Is this tweet was retweeted?''\n",
      " False\n"
     ]
    }
   ],
   "source": [
    "#Retweet information\n",
    "print(\"''Is this tweet was retweeted?''\\n\",tweet['retweeted'])"
   ]
  },
  {
   "cell_type": "code",
   "execution_count": 8,
   "metadata": {},
   "outputs": [
    {
     "name": "stdout",
     "output_type": "stream",
     "text": [
      "{'urls': [{'display_url': 'DonaldJTrump.com', 'expanded_url': 'http://www.DonaldJTrump.com', 'indices': [0, 23], 'url': 'https://t.co/mZB2hymxC9'}]}\n"
     ]
    }
   ],
   "source": [
    "print(tweet['user']['entities']['url'])"
   ]
  },
  {
   "cell_type": "code",
   "execution_count": null,
   "metadata": {},
   "outputs": [],
   "source": []
  }
 ],
 "metadata": {
  "kernelspec": {
   "display_name": "Python 3",
   "language": "python",
   "name": "python3"
  },
  "language_info": {
   "codemirror_mode": {
    "name": "ipython",
    "version": 3
   },
   "file_extension": ".py",
   "mimetype": "text/x-python",
   "name": "python",
   "nbconvert_exporter": "python",
   "pygments_lexer": "ipython3",
   "version": "3.6.2"
  }
 },
 "nbformat": 4,
 "nbformat_minor": 2
}

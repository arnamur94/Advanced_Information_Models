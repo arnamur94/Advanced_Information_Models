{
 "cells": [
  {
   "cell_type": "markdown",
   "metadata": {},
   "source": [
    "# MongDB part (coding skills"
   ]
  },
  {
   "cell_type": "markdown",
   "metadata": {},
   "source": [
    "<b>Using Pymongo Client API to connect to a MongoDb Instance in Python\n",
    "</b>"
   ]
  },
  {
   "cell_type": "code",
   "execution_count": null,
   "metadata": {},
   "outputs": [],
   "source": [
    "#Connection to a running MongoDb Instance\n",
    "from pymongo import MongoClient\n",
    "client = MongoClient()\n",
    "print(\"MongoClient connected\")"
   ]
  },
  {
   "cell_type": "code",
   "execution_count": null,
   "metadata": {},
   "outputs": [],
   "source": [
    "#Loading of twitter database\n",
    "db = client.twitter_db\n",
    "#Loading od tweets collection\n",
    "tweets = db.tweets\n",
    "print(\"Connect to twitter_db\")"
   ]
  },
  {
   "cell_type": "code",
   "execution_count": null,
   "metadata": {},
   "outputs": [],
   "source": [
    "#Counting of tweets documents in the collection\n",
    "print(tweets.count(),\"tweets in twitter_db\")\n"
   ]
  },
  {
   "cell_type": "code",
   "execution_count": null,
   "metadata": {},
   "outputs": [],
   "source": [
    "import pprint\n",
    "#Searching of a randomly chosen tweet\n",
    "tweet_iterator = tweets.find({'text':{'$regex': 'ISIS'}})\n",
    "#Printing a tweet.JSON document\n",
    "print(tweet_iterator.count(),\"tweets matching with 'ISIS' regEx\")"
   ]
  },
  {
   "cell_type": "code",
   "execution_count": null,
   "metadata": {},
   "outputs": [],
   "source": [
    "for tweet in tweet_iterator[:3]:\n",
    "    pprint.pprint(tweet)"
   ]
  },
  {
   "cell_type": "code",
   "execution_count": null,
   "metadata": {},
   "outputs": [],
   "source": [
    "#Printing the creation information of the tweet.JSON document\n",
    "tweet = tweets.find_one({'text':{'$regex': 'ISIS'}})\n",
    "print(\"'Payload tweet text information'\\n\",tweet['text'])"
   ]
  },
  {
   "cell_type": "code",
   "execution_count": null,
   "metadata": {},
   "outputs": [],
   "source": [
    "#Retweet information\n",
    "print(\"''Is this tweet was retweeted?''\\n\",tweet['retweeted'])"
   ]
  },
  {
   "cell_type": "code",
   "execution_count": null,
   "metadata": {},
   "outputs": [],
   "source": [
    "print(tweet['user']['entities']['url'])"
   ]
  },
  {
   "cell_type": "code",
   "execution_count": null,
   "metadata": {},
   "outputs": [],
   "source": []
  }
 ],
 "metadata": {
  "kernelspec": {
   "display_name": "Python 3",
   "language": "python",
   "name": "python3"
  },
  "language_info": {
   "codemirror_mode": {
    "name": "ipython",
    "version": 3
   },
   "file_extension": ".py",
   "mimetype": "text/x-python",
   "name": "python",
   "nbconvert_exporter": "python",
   "pygments_lexer": "ipython3",
   "version": "3.6.2"
  }
 },
 "nbformat": 4,
 "nbformat_minor": 2
}
